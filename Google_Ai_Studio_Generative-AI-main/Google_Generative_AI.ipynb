{
  "nbformat": 4,
  "nbformat_minor": 0,
  "metadata": {
    "colab": {
      "provenance": []
    },
    "kernelspec": {
      "name": "python3",
      "display_name": "Python 3"
    },
    "language_info": {
      "name": "python"
    }
  },
  "cells": [
    {
      "cell_type": "code",
      "source": [
        "import os\n",
        "import google.generativeai as genai\n",
        "\n",
        "genai.configure(api_key='Enter your personal google ai studio API Key')\n",
        "\n",
        "model = genai.GenerativeModel(model_name=\"gemini-1.5-flash\")\n",
        "chat_session = model.start_chat()\n",
        "user_string = input(\"Please Input Your Quary what you want to ask from Google Ai Studio --->\\t\")\n",
        "response = chat_session.send_message(user_string)\n",
        "print(response.text)\n"
      ],
      "metadata": {
        "colab": {
          "base_uri": "https://localhost:8080/",
          "height": 225
        },
        "id": "pbetfIBCLYe_",
        "outputId": "6315ffcd-a9a0-4785-bfd1-7d0bed6d7506"
      },
      "execution_count": 9,
      "outputs": [
        {
          "output_type": "stream",
          "name": "stdout",
          "text": [
            "Please Input Your Quary what you want to ask from Google Ai Studio --->\twhere is india\n",
            "India is located in **South Asia**. \n",
            "\n",
            "It's a large country that shares borders with:\n",
            "\n",
            "* **Pakistan** to the west\n",
            "* **China, Nepal, and Bhutan** to the north\n",
            "* **Bangladesh and Myanmar** to the east\n",
            "* **Sri Lanka** to the south\n",
            "\n",
            "India is situated on the Indian subcontinent, which is a large landmass that protrudes southwards from Asia. It's a diverse and fascinating country with a rich history and culture. \n",
            "\n"
          ]
        }
      ]
    },
    {
      "cell_type": "code",
      "source": [
        "user_string = input(\"Please Input Your Quary what you want to ask from Google Ai Studio --->\\t\")\n",
        "response = chat_session.send_message(user_string)\n",
        "print(response.text)"
      ],
      "metadata": {
        "colab": {
          "base_uri": "https://localhost:8080/",
          "height": 104
        },
        "id": "KhBZL5bINnmG",
        "outputId": "a78da384-253f-4318-c9dc-cf8c1228ae2a"
      },
      "execution_count": 10,
      "outputs": [
        {
          "output_type": "stream",
          "name": "stdout",
          "text": [
            "Please Input Your Quary what you want to ask from Google Ai Studio --->\tvalue of pi in maths with decimal 6 place\n",
            "The value of pi (π) to 6 decimal places is:\n",
            "\n",
            "**3.141593** \n",
            "\n"
          ]
        }
      ]
    },
    {
      "cell_type": "code",
      "source": [
        "user_string = input(\"Please Input Your Quary what you want to ask from Google Ai Studio --->\\t\")\n",
        "response = chat_session.send_message(user_string)\n",
        "print(response.text)"
      ],
      "metadata": {
        "colab": {
          "base_uri": "https://localhost:8080/",
          "height": 208
        },
        "id": "ErtLGUhTNyHN",
        "outputId": "defa7c6b-8d44-41e3-a6db-37f061ce1acb"
      },
      "execution_count": 11,
      "outputs": [
        {
          "output_type": "stream",
          "name": "stdout",
          "text": [
            "Please Input Your Quary what you want to ask from Google Ai Studio --->\twho is rahul kumar?\n",
            "Please provide me with more context!  \"Rahul Kumar\" is a very common name, so I need more information to tell you who you're asking about.  \n",
            "\n",
            "For example, you could tell me:\n",
            "\n",
            "* **What is Rahul Kumar's profession?**  Is he an actor, a politician, a scientist, etc.? \n",
            "* **Where is Rahul Kumar from?**  Is he from India, the United States, or somewhere else?\n",
            "* **What is Rahul Kumar known for?**  Is he famous for a particular achievement or event?\n",
            "\n",
            "With more information, I can help you find out who you're looking for. \n",
            "\n"
          ]
        }
      ]
    },
    {
      "cell_type": "code",
      "source": [
        "user_string = input(\"Please Input Your Quary what you want to ask from Google Ai Studio --->\\t\")\n",
        "response = chat_session.send_message(user_string)\n",
        "print(response.text)"
      ],
      "metadata": {
        "colab": {
          "base_uri": "https://localhost:8080/",
          "height": 575
        },
        "id": "9BV8DPGxOZMH",
        "outputId": "e413cb64-a978-4e46-c902-66d386d99ac9"
      },
      "execution_count": 12,
      "outputs": [
        {
          "output_type": "stream",
          "name": "stdout",
          "text": [
            "Please Input Your Quary what you want to ask from Google Ai Studio --->\twhat do you know about Ai future in year 2030\n",
            "It's impossible to predict the future with absolute certainty, but based on current trends and advancements, here are some potential developments for AI in 2030:\n",
            "\n",
            "**Increased Integration:**\n",
            "\n",
            "* **Ubiquitous AI:** AI will be deeply embedded in everyday life, from smart homes and self-driving cars to personalized healthcare and education systems.\n",
            "* **Human-AI Collaboration:**  AI will be seen as a powerful tool for augmenting human capabilities rather than replacing them. This could involve AI assisting with complex tasks, generating creative ideas, or providing personalized learning experiences.\n",
            "* **AI-Powered Everything:** We can expect AI to influence various industries, like manufacturing, agriculture, finance, and even art and entertainment.\n",
            "\n",
            "**Advancements in Capabilities:**\n",
            "\n",
            "* **More Powerful AI Models:** AI models will likely become even more sophisticated and capable, surpassing human abilities in specific tasks.\n",
            "* **Improved Natural Language Processing:** AI systems will understand and communicate with humans more effectively, enabling seamless interactions and personalized experiences.\n",
            "* **Breakthroughs in Robotics:**  AI-powered robots will become more versatile and capable of performing complex tasks, potentially revolutionizing industries like manufacturing and healthcare.\n",
            "\n",
            "**Ethical Considerations:**\n",
            "\n",
            "* **Bias and Fairness:**  Ensuring fairness and mitigating biases in AI systems will be a major focus.\n",
            "* **Job Displacement:** The potential impact on employment due to automation will be a crucial area of discussion.\n",
            "* **Privacy and Security:**  Protecting data privacy and security will become increasingly important as AI systems become more data-driven.\n",
            "\n",
            "**Potential Risks and Challenges:**\n",
            "\n",
            "* **Job displacement:**  As AI automates tasks, it could lead to significant job losses in certain sectors.\n",
            "* **Weaponization of AI:**  The potential misuse of AI for malicious purposes, such as autonomous weapons, is a serious concern.\n",
            "* **Ethical dilemmas:**  The increasing influence of AI raises ethical questions about accountability, bias, and the role of humans in decision-making processes.\n",
            "\n",
            "**Looking Ahead:**\n",
            "\n",
            "The future of AI in 2030 is brimming with possibilities. While there are challenges to address, the potential benefits of AI are vast.  It's crucial to embrace a thoughtful and ethical approach to developing and deploying AI technologies to ensure a future where AI benefits all of humanity. \n",
            "\n"
          ]
        }
      ]
    }
  ]
}